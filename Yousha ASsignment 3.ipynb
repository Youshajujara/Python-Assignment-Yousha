{
 "cells": [
  {
   "cell_type": "code",
   "execution_count": 1,
   "id": "25f2427c",
   "metadata": {},
   "outputs": [
    {
     "name": "stdout",
     "output_type": "stream",
     "text": [
      "Twinkle , Twinkle , Little star \n",
      "      How I wonder what you are! \n",
      "            up above the world so high, \n",
      "            like a diamond in the sky \n",
      "Twinkle , Twinkle , Little star \n",
      "      How I wonder what you are!\n"
     ]
    }
   ],
   "source": [
    "print (\"Twinkle , Twinkle , Little star \\n      How I wonder what you are! \\n            up above the world so high, \\n            like a diamond in the sky \\nTwinkle , Twinkle , Little star \\n      How I wonder what you are!\")"
   ]
  },
  {
   "cell_type": "code",
   "execution_count": 6,
   "id": "4c2905b1",
   "metadata": {},
   "outputs": [
    {
     "name": "stdout",
     "output_type": "stream",
     "text": [
      "2021-10-24 16:04:20.710587\n"
     ]
    }
   ],
   "source": [
    "import datetime\n",
    "\n",
    "x = datetime.datetime.now()\n",
    "\n",
    "print(x)"
   ]
  },
  {
   "cell_type": "code",
   "execution_count": 7,
   "id": "37bd7223",
   "metadata": {},
   "outputs": [
    {
     "name": "stdout",
     "output_type": "stream",
     "text": [
      "Enter the radius of a circle:12\n",
      "Area of a circle = 452.16\n"
     ]
    }
   ],
   "source": [
    "PI = 3.14\n",
    "r = float(input(\"Enter the radius of a circle:\"))\n",
    "area = PI * r * r\n",
    "print(\"Area of a circle = %.2f\" %area)"
   ]
  },
  {
   "cell_type": "code",
   "execution_count": 8,
   "id": "c8a6193c",
   "metadata": {},
   "outputs": [
    {
     "name": "stdout",
     "output_type": "stream",
     "text": [
      "Enter a number: 23\n",
      "This is an odd number.\n"
     ]
    }
   ],
   "source": [
    "num = int(input(\"Enter a number: \"))\n",
    "mod = num % 2\n",
    "if mod > 0:\n",
    "    print(\"This is an odd number.\")\n",
    "else:\n",
    "    print(\"This is an even number.\")"
   ]
  },
  {
   "cell_type": "code",
   "execution_count": 9,
   "id": "83e7df76",
   "metadata": {},
   "outputs": [
    {
     "name": "stdout",
     "output_type": "stream",
     "text": [
      "4\n"
     ]
    }
   ],
   "source": [
    "a = [\"apple\", \"banana\", \"cherry\" , \"mango\"]\n",
    "print(len(a))"
   ]
  },
  {
   "cell_type": "code",
   "execution_count": 10,
   "id": "81bb4bcd",
   "metadata": {},
   "outputs": [
    {
     "name": "stdout",
     "output_type": "stream",
     "text": [
      "15\n"
     ]
    }
   ],
   "source": [
    "print(sum((5,3,2,1,4)))"
   ]
  },
  {
   "cell_type": "code",
   "execution_count": 11,
   "id": "382a8854",
   "metadata": {},
   "outputs": [
    {
     "name": "stdout",
     "output_type": "stream",
     "text": [
      "54\n"
     ]
    }
   ],
   "source": [
    "x = max (2 , 4 , 5 , 10 , 54 )\n",
    "print (x)"
   ]
  },
  {
   "cell_type": "code",
   "execution_count": 12,
   "id": "d31faa39",
   "metadata": {},
   "outputs": [
    {
     "name": "stdout",
     "output_type": "stream",
     "text": [
      "Input your First Name : Yousha\n",
      "Input your Last Name : Yousuf\n",
      "Hi Yousuf Yousha\n"
     ]
    }
   ],
   "source": [
    "firstname = input(\"Input your First Name : \")\n",
    "lastname = input(\"Input your Last Name : \")\n",
    "print (\"Hi \" + lastname + \" \" + firstname)"
   ]
  },
  {
   "cell_type": "code",
   "execution_count": 15,
   "id": "eb576a7c",
   "metadata": {},
   "outputs": [
    {
     "name": "stdout",
     "output_type": "stream",
     "text": [
      "3.8.8\n"
     ]
    }
   ],
   "source": [
    "from platform import python_version\n",
    "\n",
    "print(python_version())"
   ]
  },
  {
   "cell_type": "code",
   "execution_count": 37,
   "id": "8020c902",
   "metadata": {},
   "outputs": [
    {
     "name": "stdout",
     "output_type": "stream",
     "text": [
      "enter first number: 3\n",
      "enter second number: 3\n",
      "sum: 6\n"
     ]
    }
   ],
   "source": [
    "a = int(input(\"enter first number: \"))\n",
    "b = int(input(\"enter second number: \"))\n",
    "sum = a + b\n",
    "print(\"sum:\", sum)"
   ]
  },
  {
   "cell_type": "code",
   "execution_count": 35,
   "id": "b71de246",
   "metadata": {
    "scrolled": true
   },
   "outputs": [
    {
     "name": "stdout",
     "output_type": "stream",
     "text": [
      "Enter the marks out of 100 : 1\n",
      "Enter the marks out of 100 : 1\n",
      "Enter the marks out of 100 : 1\n",
      "Enter the marks out of 100 : 1\n",
      "Enter the marks out of 100 : 1\n",
      "Grade F\n",
      "Total Marks 500\n",
      "Total Obtain Marks 5\n",
      "Percentage is 1.0\n"
     ]
    }
   ],
   "source": [
    "English = int(input(\"Enter the marks out of 100 : \"))\n",
    "Math = int(input(\"Enter the marks out of 100 : \"))\n",
    "Isl = int(input(\"Enter the marks out of 100 : \"))\n",
    "science = int(input(\"Enter the marks out of 100 : \"))\n",
    "Urdu = int(input(\"Enter the marks out of 100 : \"))\n",
    "\n",
    "Total_marks = 500;\n",
    "Obtain_marks = English+Math+Isl+science+Urdu;\n",
    "percentage = Obtain_marks/Total_marks *100;\n",
    "\n",
    "if percentage < 100 and percentage > 80:\n",
    "    print (\"Grade A+\");\n",
    "if percentage < 80 and percentage > 70:\n",
    "     print (\"Grade A\");\n",
    "if percentage < 70 and percentage > 60:\n",
    "     print (\"Grade B\");\n",
    "if percentage < 60 and percentage > 50:\n",
    "    print (\"Grade C\");\n",
    "if percentage < 50 and percentage > 40:\n",
    "     print (\"Grade D\");\n",
    "if percentage < 40 and percentage > 33:\n",
    "    print (\"Grade E\");\n",
    "if percentage < 33 and percentage > 0:\n",
    "    print (\"Grade F\");\n",
    "\n",
    "\n",
    "print(\"Total Marks\", Total_marks);\n",
    "print(\"Total Obtain Marks\", Obtain_marks);\n",
    "print(\"Percentage is\", percentage)"
   ]
  },
  {
   "cell_type": "code",
   "execution_count": null,
   "id": "30fd1680",
   "metadata": {},
   "outputs": [],
   "source": []
  }
 ],
 "metadata": {
  "kernelspec": {
   "display_name": "Python 3",
   "language": "python",
   "name": "python3"
  },
  "language_info": {
   "codemirror_mode": {
    "name": "ipython",
    "version": 3
   },
   "file_extension": ".py",
   "mimetype": "text/x-python",
   "name": "python",
   "nbconvert_exporter": "python",
   "pygments_lexer": "ipython3",
   "version": "3.8.8"
  }
 },
 "nbformat": 4,
 "nbformat_minor": 5
}
